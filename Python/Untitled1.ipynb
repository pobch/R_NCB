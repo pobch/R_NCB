{
 "cells": [
  {
   "cell_type": "code",
   "execution_count": 75,
   "metadata": {
    "collapsed": true
   },
   "outputs": [],
   "source": [
    "from random import seed\n",
    "from random import randrange\n",
    "from csv import reader"
   ]
  },
  {
   "cell_type": "code",
   "execution_count": 76,
   "metadata": {
    "collapsed": true
   },
   "outputs": [],
   "source": [
    "seed(1)"
   ]
  },
  {
   "cell_type": "code",
   "execution_count": 77,
   "metadata": {
    "collapsed": false
   },
   "outputs": [
    {
     "data": {
      "text/plain": [
       "['3.6216', '8.6661', '-2.8073', '-0.44699', '0']"
      ]
     },
     "execution_count": 77,
     "metadata": {},
     "output_type": "execute_result"
    }
   ],
   "source": [
    "filename = 'data_banknote_authentication.txt'\n",
    "file = open(filename, \"r\")\n",
    "lines = reader(file)\n",
    "dataset = list(lines)\n",
    "dataset[0]"
   ]
  },
  {
   "cell_type": "code",
   "execution_count": 78,
   "metadata": {
    "collapsed": false
   },
   "outputs": [],
   "source": [
    "for i in range(len(dataset[0])):\n",
    "    for row in dataset:\n",
    "        row[i] = float(row[i].strip())"
   ]
  },
  {
   "cell_type": "code",
   "execution_count": 79,
   "metadata": {
    "collapsed": false
   },
   "outputs": [
    {
     "data": {
      "text/plain": [
       "[3.6216, 8.6661, -2.8073, -0.44699, 0.0]"
      ]
     },
     "execution_count": 79,
     "metadata": {},
     "output_type": "execute_result"
    }
   ],
   "source": [
    "dataset[0]"
   ]
  },
  {
   "cell_type": "code",
   "execution_count": 80,
   "metadata": {
    "collapsed": true
   },
   "outputs": [],
   "source": [
    "n_folds = 5\n",
    "\n",
    "# scores = evaluate_algorithm(dataset, decision_tree, n_folds, max_depth, min_size)"
   ]
  },
  {
   "cell_type": "code",
   "execution_count": null,
   "metadata": {
    "collapsed": false
   },
   "outputs": [],
   "source": []
  },
  {
   "cell_type": "markdown",
   "metadata": {},
   "source": [
    "#k-fold\n",
    "\n",
    "\n",
    "dataset_split = list()\n",
    "dataset_copy = list(dataset)\n",
    "fold_size = int(len(dataset) / n_folds)\n",
    "for i in range(n_folds):\n",
    "    fold = list()\n",
    "    while len(fold) < fold_size:\n",
    "        index = randrange(len(dataset_copy))\n",
    "        fold.append(dataset_copy.pop(index))\n",
    "    dataset_split.append(fold)\n",
    "folds = dataset_split\n"
   ]
  },
  {
   "cell_type": "code",
   "execution_count": 89,
   "metadata": {
    "collapsed": false
   },
   "outputs": [],
   "source": [
    "class_values = list(set(row[-1] for row in dataset))\n",
    "b_index, b_value, b_score, b_groups = 999, 999, 999, None\n",
    "result = {'index':[], 'value':[], 'groups':[], 'gini_score':[]}\n",
    "for index in range(len(dataset[0])-1):\n",
    "    b_score = 999\n",
    "    for row in dataset:\n",
    "        left, right = list(), list()\n",
    "        for row2 in dataset:\n",
    "            if row2[index] < row[index]:\n",
    "                left.append(row2)\n",
    "            else:\n",
    "                right.append(row2)\n",
    "        groups = left,right\n",
    "        gini = 0.0\n",
    "        for class_value in class_values:\n",
    "            for group in groups:\n",
    "                size = len(group)\n",
    "                if size == 0:\n",
    "                    continue\n",
    "                proportion = [row[-1] for row in group].count(class_value) / float(size)\n",
    "                gini += (proportion * (1.0 - proportion))\n",
    "        if gini < b_score:\n",
    "            b_index, b_value, b_score, b_groups = index, row[index], gini, groups\n",
    "    result['index'].append(b_index)\n",
    "    result['value'].append(b_value)\n",
    "    result['groups'].append(b_groups)\n",
    "    result['gini_score'].append(b_score)\n"
   ]
  },
  {
   "cell_type": "code",
   "execution_count": 106,
   "metadata": {
    "collapsed": false
   },
   "outputs": [
    {
     "name": "stdout",
     "output_type": "stream",
     "text": [
      "[0.45589336804211156, 0.48, 0.4811126069908904, 0.4938631012588292]\n",
      "[1.7939, -6.9321, 8.8483, -8.5482]\n"
     ]
    }
   ],
   "source": [
    "print(result['gini_score'])\n",
    "print(result['value'])"
   ]
  },
  {
   "cell_type": "code",
   "execution_count": 99,
   "metadata": {
    "collapsed": false
   },
   "outputs": [],
   "source": [
    "root = {}\n",
    "min_gini = min(result['gini_score'])\n",
    "for i in range(len(result['gini_score'])):\n",
    "    if result['gini_score'][i] == min_gini:\n",
    "        ind = i\n",
    "for key in result.keys():\n",
    "    root[key] = result[key][ind]\n"
   ]
  },
  {
   "cell_type": "markdown",
   "metadata": {},
   "source": [
    "# ^ Last edited"
   ]
  },
  {
   "cell_type": "code",
   "execution_count": null,
   "metadata": {
    "collapsed": true
   },
   "outputs": [],
   "source": [
    "depth = 1\n",
    "max_depth = 5\n",
    "min_size = 10\n",
    "node = root\n",
    "def to_terminal(group):\n",
    "    outcomes = [row[-1] for row in group]\n",
    "    return max(set(outcomes), key=outcomes.count)\n",
    "\n",
    "\n",
    "def split(node, max_depth, min_size, depth):\n",
    "left, right = node['groups']\n",
    "del(node['groups'])\n",
    "# check for a no split\n",
    "if not left or not right:\n",
    "    node['left'] = node['right'] = to_terminal(left + right)\n",
    "    return\n",
    "# check for max depth\n",
    "if depth >= max_depth:\n",
    "    node['left'], node['right'] = to_terminal(left), to_terminal(right)\n",
    "    return\n",
    "# process left child\n",
    "if len(left) <= min_size:\n",
    "    node['left'] = to_terminal(left)\n",
    "else:\n",
    "    node['left'] = get_split(left)\n",
    "    split(node['left'], max_depth, min_size, depth+1)\n",
    "# process right child\n",
    "if len(right) <= min_size:\n",
    "    node['right'] = to_terminal(right)\n",
    "else:\n",
    "    node['right'] = get_split(right)\n",
    "    split(node['right'], max_depth, min_size, depth+1)\n"
   ]
  },
  {
   "cell_type": "code",
   "execution_count": 104,
   "metadata": {
    "collapsed": false
   },
   "outputs": [
    {
     "ename": "TypeError",
     "evalue": "count() takes exactly one argument (0 given)",
     "output_type": "error",
     "traceback": [
      "\u001b[0;31m---------------------------------------------------------------------------\u001b[0m",
      "\u001b[0;31mTypeError\u001b[0m                                 Traceback (most recent call last)",
      "\u001b[0;32m<ipython-input-104-a8750c1fc44a>\u001b[0m in \u001b[0;36m<module>\u001b[0;34m()\u001b[0m\n\u001b[1;32m      1\u001b[0m \u001b[0ma\u001b[0m \u001b[1;33m=\u001b[0m \u001b[1;33m[\u001b[0m\u001b[1;36m1\u001b[0m\u001b[1;33m,\u001b[0m\u001b[1;36m2\u001b[0m\u001b[1;33m,\u001b[0m\u001b[1;36m3\u001b[0m\u001b[1;33m,\u001b[0m\u001b[1;36m4\u001b[0m\u001b[1;33m]\u001b[0m\u001b[1;33m\u001b[0m\u001b[0m\n\u001b[0;32m----> 2\u001b[0;31m \u001b[0ma\u001b[0m\u001b[1;33m.\u001b[0m\u001b[0mcount\u001b[0m\u001b[1;33m(\u001b[0m\u001b[1;33m)\u001b[0m\u001b[1;33m\u001b[0m\u001b[0m\n\u001b[0m",
      "\u001b[0;31mTypeError\u001b[0m: count() takes exactly one argument (0 given)"
     ]
    }
   ],
   "source": [
    "a = [1,2,3,4]\n",
    "a.count()"
   ]
  },
  {
   "cell_type": "code",
   "execution_count": null,
   "metadata": {
    "collapsed": true
   },
   "outputs": [],
   "source": [
    "scores = list()\n",
    "for fold in folds:\n",
    "    train_set = list(folds)\n",
    "    train_set.remove(fold)\n",
    "    train_set = sum(train_set, [])\n",
    "    test_set = list()\n",
    "    for row in fold:\n",
    "        row_copy = list(row)\n",
    "        test_set.append(row_copy)\n",
    "        row_copy[-1] = None\n",
    "    predicted = algorithm(train_set, test_set, *args)\n",
    "    actual = [row[-1] for row in fold]\n",
    "    accuracy = accuracy_metric(actual, predicted)\n",
    "    scores.append(accuracy)\n"
   ]
  }
 ],
 "metadata": {
  "kernelspec": {
   "display_name": "Python 3",
   "language": "python",
   "name": "python3"
  },
  "language_info": {
   "codemirror_mode": {
    "name": "ipython",
    "version": 3
   },
   "file_extension": ".py",
   "mimetype": "text/x-python",
   "name": "python",
   "nbconvert_exporter": "python",
   "pygments_lexer": "ipython3",
   "version": "3.6.0"
  }
 },
 "nbformat": 4,
 "nbformat_minor": 2
}
